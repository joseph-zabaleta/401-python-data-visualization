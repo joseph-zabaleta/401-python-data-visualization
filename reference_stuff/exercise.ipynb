{
 "cells": [
  {
   "cell_type": "markdown",
   "metadata": {},
   "source": [
    "# Lab 14: Data Visualization\n",
    "## Data Set: Exercise from Seaborn Built-in\n",
    "#### By: Joseph Zabaleta \n",
    "##### Date: 20200601\n",
    "---"
   ]
  },
  {
   "cell_type": "code",
   "execution_count": 61,
   "metadata": {},
   "outputs": [],
   "source": [
    "import seaborn as sns\n",
    "import matplotlib.pyplot as plt\n",
    "sns.set()"
   ]
  },
  {
   "cell_type": "markdown",
   "metadata": {},
   "source": [
    "---\n",
    "### Load data into Pandas DataFrame:"
   ]
  },
  {
   "cell_type": "code",
   "execution_count": 7,
   "metadata": {},
   "outputs": [],
   "source": [
    "exercise = sns.load_dataset('exercise')\n"
   ]
  },
  {
   "cell_type": "markdown",
   "metadata": {},
   "source": [
    "---\n",
    "### Show the first five rows of the data set:"
   ]
  },
  {
   "cell_type": "code",
   "execution_count": 8,
   "metadata": {},
   "outputs": [
    {
     "output_type": "execute_result",
     "data": {
      "text/plain": "   Unnamed: 0  id     diet  pulse    time  kind\n0           0   1  low fat     85   1 min  rest\n1           1   1  low fat     85  15 min  rest\n2           2   1  low fat     88  30 min  rest\n3           3   2  low fat     90   1 min  rest\n4           4   2  low fat     92  15 min  rest",
      "text/html": "<div>\n<style scoped>\n    .dataframe tbody tr th:only-of-type {\n        vertical-align: middle;\n    }\n\n    .dataframe tbody tr th {\n        vertical-align: top;\n    }\n\n    .dataframe thead th {\n        text-align: right;\n    }\n</style>\n<table border=\"1\" class=\"dataframe\">\n  <thead>\n    <tr style=\"text-align: right;\">\n      <th></th>\n      <th>Unnamed: 0</th>\n      <th>id</th>\n      <th>diet</th>\n      <th>pulse</th>\n      <th>time</th>\n      <th>kind</th>\n    </tr>\n  </thead>\n  <tbody>\n    <tr>\n      <th>0</th>\n      <td>0</td>\n      <td>1</td>\n      <td>low fat</td>\n      <td>85</td>\n      <td>1 min</td>\n      <td>rest</td>\n    </tr>\n    <tr>\n      <th>1</th>\n      <td>1</td>\n      <td>1</td>\n      <td>low fat</td>\n      <td>85</td>\n      <td>15 min</td>\n      <td>rest</td>\n    </tr>\n    <tr>\n      <th>2</th>\n      <td>2</td>\n      <td>1</td>\n      <td>low fat</td>\n      <td>88</td>\n      <td>30 min</td>\n      <td>rest</td>\n    </tr>\n    <tr>\n      <th>3</th>\n      <td>3</td>\n      <td>2</td>\n      <td>low fat</td>\n      <td>90</td>\n      <td>1 min</td>\n      <td>rest</td>\n    </tr>\n    <tr>\n      <th>4</th>\n      <td>4</td>\n      <td>2</td>\n      <td>low fat</td>\n      <td>92</td>\n      <td>15 min</td>\n      <td>rest</td>\n    </tr>\n  </tbody>\n</table>\n</div>"
     },
     "metadata": {},
     "execution_count": 8
    }
   ],
   "source": [
    "exercise.head(5)\n"
   ]
  },
  {
   "cell_type": "markdown",
   "metadata": {},
   "source": [
    "---\n",
    "### Show the description and the info of the data set:"
   ]
  },
  {
   "cell_type": "code",
   "execution_count": 9,
   "metadata": {},
   "outputs": [
    {
     "output_type": "execute_result",
     "data": {
      "text/plain": "       Unnamed: 0         id       pulse\ncount   90.000000  90.000000   90.000000\nmean    44.500000  15.500000   99.700000\nstd     26.124701   8.703932   14.858471\nmin      0.000000   1.000000   80.000000\n25%     22.250000   8.000000   90.250000\n50%     44.500000  15.500000   96.000000\n75%     66.750000  23.000000  103.000000\nmax     89.000000  30.000000  150.000000",
      "text/html": "<div>\n<style scoped>\n    .dataframe tbody tr th:only-of-type {\n        vertical-align: middle;\n    }\n\n    .dataframe tbody tr th {\n        vertical-align: top;\n    }\n\n    .dataframe thead th {\n        text-align: right;\n    }\n</style>\n<table border=\"1\" class=\"dataframe\">\n  <thead>\n    <tr style=\"text-align: right;\">\n      <th></th>\n      <th>Unnamed: 0</th>\n      <th>id</th>\n      <th>pulse</th>\n    </tr>\n  </thead>\n  <tbody>\n    <tr>\n      <th>count</th>\n      <td>90.000000</td>\n      <td>90.000000</td>\n      <td>90.000000</td>\n    </tr>\n    <tr>\n      <th>mean</th>\n      <td>44.500000</td>\n      <td>15.500000</td>\n      <td>99.700000</td>\n    </tr>\n    <tr>\n      <th>std</th>\n      <td>26.124701</td>\n      <td>8.703932</td>\n      <td>14.858471</td>\n    </tr>\n    <tr>\n      <th>min</th>\n      <td>0.000000</td>\n      <td>1.000000</td>\n      <td>80.000000</td>\n    </tr>\n    <tr>\n      <th>25%</th>\n      <td>22.250000</td>\n      <td>8.000000</td>\n      <td>90.250000</td>\n    </tr>\n    <tr>\n      <th>50%</th>\n      <td>44.500000</td>\n      <td>15.500000</td>\n      <td>96.000000</td>\n    </tr>\n    <tr>\n      <th>75%</th>\n      <td>66.750000</td>\n      <td>23.000000</td>\n      <td>103.000000</td>\n    </tr>\n    <tr>\n      <th>max</th>\n      <td>89.000000</td>\n      <td>30.000000</td>\n      <td>150.000000</td>\n    </tr>\n  </tbody>\n</table>\n</div>"
     },
     "metadata": {},
     "execution_count": 9
    }
   ],
   "source": [
    "exercise.describe()"
   ]
  },
  {
   "cell_type": "code",
   "execution_count": 10,
   "metadata": {},
   "outputs": [
    {
     "output_type": "stream",
     "name": "stdout",
     "text": "<class 'pandas.core.frame.DataFrame'>\nRangeIndex: 90 entries, 0 to 89\nData columns (total 6 columns):\n #   Column      Non-Null Count  Dtype   \n---  ------      --------------  -----   \n 0   Unnamed: 0  90 non-null     int64   \n 1   id          90 non-null     int64   \n 2   diet        90 non-null     category\n 3   pulse       90 non-null     int64   \n 4   time        90 non-null     category\n 5   kind        90 non-null     category\ndtypes: category(3), int64(3)\nmemory usage: 2.8 KB\n"
    }
   ],
   "source": [
    "exercise.info()"
   ]
  },
  {
   "cell_type": "markdown",
   "metadata": {},
   "source": [
    "---\n",
    "### Visualization of the Dataset"
   ]
  },
  {
   "cell_type": "code",
   "execution_count": 45,
   "metadata": {},
   "outputs": [],
   "source": [
    "# rest group\n",
    "filter_rest = exercise['kind']=='rest'\n",
    "exercise_rest = exercise[filter_rest]\n",
    "# rest one min\n",
    "filter_one_min = exercise_rest['time']=='1 min'\n",
    "exercise_rest_one_min = exercise_rest[filter_one_min]\n",
    "filter_low_fat_one = exercise_rest_one_min['diet']=='low fat'\n",
    "filter_no_fat_one = exercise_rest_one_min['diet']=='no fat'\n",
    "\n",
    "# rest 15 min\n",
    "filter_15_min = exercise_rest['time']=='15 min'\n",
    "exercise_rest_15_min = exercise_rest[filter_15_min]\n",
    "filter_low_fat_15 = exercise_rest_15_min['diet']=='low fat'\n",
    "filter_no_fat_15 = exercise_rest_15_min['diet']=='no fat'\n",
    "\n",
    "# rest 30 min\n",
    "filter_30_min = exercise_rest['time']=='30 min' \n",
    "exercise_rest_30_min = exercise_rest[filter_30_min]\n",
    "filter_low_fat_30 = exercise_rest_30_min['diet']=='low fat'\n",
    "filter_no_fat_30 = exercise_rest_30_min['diet']=='no fat'"
   ]
  },
  {
   "cell_type": "code",
   "execution_count": 47,
   "metadata": {},
   "outputs": [
    {
     "output_type": "execute_result",
     "data": {
      "text/plain": "[88.6, 89.6, 89.8]"
     },
     "metadata": {},
     "execution_count": 47
    }
   ],
   "source": [
    "rest_low_fat_avg_one_min = exercise_rest_one_min[filter_low_fat_one]['pulse'].mean()\n",
    "rest_low_fat_avg_15_min = exercise_rest_15_min[filter_low_fat_15]['pulse'].mean()\n",
    "rest_low_fat_avg_30_min = exercise_rest_30_min[filter_low_fat_30]['pulse'].mean()\n",
    "\n",
    "# average pulse in rest low fat, per time group of 1 min, 15 min, 30 min\n",
    "rest_avg_pulse_low_fat = [rest_low_fat_avg_one_min, rest_low_fat_avg_15_min, rest_low_fat_avg_30_min]\n",
    "rest_avg_pulse_low_fat"
   ]
  },
  {
   "cell_type": "code",
   "execution_count": 48,
   "metadata": {},
   "outputs": [
    {
     "output_type": "execute_result",
     "data": {
      "text/plain": "[91.8, 92.2, 93.0]"
     },
     "metadata": {},
     "execution_count": 48
    }
   ],
   "source": [
    "rest_no_fat_avg_one_min = exercise_rest_one_min[filter_no_fat_one]['pulse'].mean()\n",
    "rest_no_fat_avg_15_min = exercise_rest_15_min[filter_no_fat_15]['pulse'].mean()\n",
    "rest_no_fat_avg_30_min = exercise_rest_30_min[filter_no_fat_30]['pulse'].mean()\n",
    "\n",
    "# average pulse in rest no fat, per time group of 1 min, 15 min, 30 min\n",
    "rest_avg_pulse_no_fat = [rest_no_fat_avg_one_min, rest_no_fat_avg_15_min, rest_no_fat_avg_30_min]\n",
    "rest_avg_pulse_no_fat"
   ]
  },
  {
   "cell_type": "code",
   "execution_count": 36,
   "metadata": {},
   "outputs": [],
   "source": [
    "# walking group\n",
    "filter_walking = exercise['kind']=='walking'\n",
    "exercise_walk = exercise[filter_walking]\n",
    "# walking one min\n",
    "walk_one_min = exercise_walk['time']=='1 min'\n",
    "exercise_walk_one_min = exercise_walk[walk_one_min]\n",
    "walk_low_fat_one = exercise_walk_one_min['diet']=='low fat'\n",
    "walk_no_fat_one = exercise_walk_one_min['diet']=='no fat'\n",
    "\n",
    "# walk 15 min\n",
    "walk_15_min = exercise_walk['time']=='15 min'\n",
    "exercise_walk_15_min = exercise_walk[walk_15_min]\n",
    "walk_low_fat_15 = exercise_walk_15_min['diet']=='low fat'\n",
    "walk_no_fat_15 = exercise_walk_15_min['diet']=='no fat'\n",
    "\n",
    "# walk 30 min\n",
    "walk_30_min = exercise_walk['time']=='30 min' \n",
    "exercise_walk_30_min = exercise_walk[walk_30_min]\n",
    "walk_low_fat_30 = exercise_walk_30_min['diet']=='low fat'\n",
    "walk_no_fat_30 = exercise_walk_30_min['diet']=='no fat'"
   ]
  },
  {
   "cell_type": "code",
   "execution_count": 51,
   "metadata": {},
   "outputs": [
    {
     "output_type": "execute_result",
     "data": {
      "text/plain": "[90.6, 94.6, 95.2]"
     },
     "metadata": {},
     "execution_count": 51
    }
   ],
   "source": [
    "walk_low_fat_avg_one_min = exercise_walk_one_min[walk_low_fat_one]['pulse'].mean()\n",
    "walk_low_fat_avg_15_min = exercise_walk_15_min[walk_low_fat_15]['pulse'].mean()\n",
    "walk_low_fat_avg_30_min = exercise_walk_30_min[walk_low_fat_30]['pulse'].mean()\n",
    "\n",
    "# average pulse in walk low fat, per time group of 1 min, 15 min, 30 min\n",
    "walk_avg_pulse_low_fat = [walk_low_fat_avg_one_min, walk_low_fat_avg_15_min, walk_low_fat_avg_30_min]\n",
    "walk_avg_pulse_low_fat"
   ]
  },
  {
   "cell_type": "code",
   "execution_count": 52,
   "metadata": {},
   "outputs": [
    {
     "output_type": "execute_result",
     "data": {
      "text/plain": "[95.6, 98.6, 96.6]"
     },
     "metadata": {},
     "execution_count": 52
    }
   ],
   "source": [
    "walk_no_fat_avg_one_min = exercise_walk_one_min[walk_no_fat_one]['pulse'].mean()\n",
    "walk_no_fat_avg_15_min = exercise_walk_15_min[walk_no_fat_15]['pulse'].mean()\n",
    "walk_no_fat_avg_30_min = exercise_walk_30_min[walk_no_fat_30]['pulse'].mean()\n",
    "\n",
    "# average pulse in walk no fat, per time group of 1 min, 15 min, 30 min\n",
    "walk_avg_pulse_no_fat = [walk_no_fat_avg_one_min, walk_no_fat_avg_15_min, walk_no_fat_avg_30_min]\n",
    "walk_avg_pulse_no_fat "
   ]
  },
  {
   "cell_type": "code",
   "execution_count": 40,
   "metadata": {},
   "outputs": [],
   "source": [
    "# running group\n",
    "filter_running = exercise['kind']=='running'\n",
    "exercise_run = exercise[filter_running]\n",
    "# run one min\n",
    "run_one_min = exercise_run['time']=='1 min'\n",
    "exercise_run_one_min = exercise_run[run_one_min]\n",
    "run_low_fat_one = exercise_run_one_min['diet']=='low fat'\n",
    "run_no_fat_one = exercise_run_one_min['diet']=='no fat'\n",
    "\n",
    "# run 15 min\n",
    "run_15_min = exercise_run['time']=='15 min'\n",
    "exercise_run_15_min = exercise_run[run_15_min]\n",
    "run_low_fat_15 = exercise_run_15_min['diet']=='low fat'\n",
    "run_no_fat_15 = exercise_run_15_min['diet']=='no fat'\n",
    "\n",
    "# run 30 min\n",
    "run_30_min = exercise_run['time']=='30 min' \n",
    "exercise_run_30_min = exercise_run[run_30_min]\n",
    "run_low_fat_30 = exercise_run_30_min['diet']=='low fat'\n",
    "run_no_fat_30 = exercise_run_30_min['diet']=='no fat'"
   ]
  },
  {
   "cell_type": "code",
   "execution_count": 54,
   "metadata": {},
   "outputs": [
    {
     "output_type": "execute_result",
     "data": {
      "text/plain": "[94.0, 109.8, 111.4]"
     },
     "metadata": {},
     "execution_count": 54
    }
   ],
   "source": [
    "run_low_fat_avg_one_min = exercise_run_one_min[run_low_fat_one]['pulse'].mean()\n",
    "run_low_fat_avg_15_min = exercise_run_15_min[run_low_fat_15]['pulse'].mean()\n",
    "run_low_fat_avg_30_min = exercise_run_30_min[run_low_fat_30]['pulse'].mean()\n",
    "\n",
    "# average pulse in run low fat, per time group of 1 min, 15 min, 30 min\n",
    "run_avg_pulse_low_fat = [run_low_fat_avg_one_min, run_low_fat_avg_15_min, run_low_fat_avg_30_min]\n",
    "run_avg_pulse_low_fat"
   ]
  },
  {
   "cell_type": "code",
   "execution_count": 56,
   "metadata": {},
   "outputs": [
    {
     "output_type": "execute_result",
     "data": {
      "text/plain": "[98.2, 124.4, 140.6]"
     },
     "metadata": {},
     "execution_count": 56
    }
   ],
   "source": [
    "run_no_fat_avg_one_min = exercise_run_one_min[run_no_fat_one]['pulse'].mean()\n",
    "run_no_fat_avg_15_min = exercise_run_15_min[run_no_fat_15]['pulse'].mean()\n",
    "run_no_fat_avg_30_min = exercise_run_30_min[run_no_fat_30]['pulse'].mean()\n",
    "# average pulse in run no fat, per time group of 1 min, 15 min, 30 min\n",
    "run_avg_pulse_no_fat = [run_no_fat_avg_one_min, run_no_fat_avg_15_min, run_no_fat_avg_30_min]\n",
    "run_avg_pulse_no_fat"
   ]
  },
  {
   "cell_type": "code",
   "execution_count": 50,
   "metadata": {},
   "outputs": [
    {
     "output_type": "stream",
     "name": "stdout",
     "text": "[88.6, 89.6, 89.8]\n[91.8, 92.2, 93.0]\n"
    }
   ],
   "source": [
    "# REST GROUP DATA:\n",
    "print(rest_avg_pulse_low_fat)\n",
    "print(rest_avg_pulse_no_fat)"
   ]
  },
  {
   "cell_type": "code",
   "execution_count": 53,
   "metadata": {},
   "outputs": [
    {
     "output_type": "stream",
     "name": "stdout",
     "text": "[90.6, 94.6, 95.2]\n[95.6, 98.6, 96.6]\n"
    }
   ],
   "source": [
    "# WALK GROUP DATA:\n",
    "print(walk_avg_pulse_low_fat)\n",
    "print(walk_avg_pulse_no_fat)"
   ]
  },
  {
   "cell_type": "code",
   "execution_count": 57,
   "metadata": {},
   "outputs": [
    {
     "output_type": "stream",
     "name": "stdout",
     "text": "[94.0, 109.8, 111.4]\n[98.2, 124.4, 140.6]\n"
    }
   ],
   "source": [
    "# RUN GROUP DATA:\n",
    "print(run_avg_pulse_low_fat)\n",
    "print(run_avg_pulse_no_fat)"
   ]
  }
 ],
 "metadata": {
  "language_info": {
   "codemirror_mode": {
    "name": "ipython",
    "version": 3
   },
   "file_extension": ".py",
   "mimetype": "text/x-python",
   "name": "python",
   "nbconvert_exporter": "python",
   "pygments_lexer": "ipython3",
   "version": "3.8.2-final"
  },
  "orig_nbformat": 2,
  "kernelspec": {
   "name": "python38264bit382pyenv71b6c2bd0c33497c886896d7c36ef894",
   "display_name": "Python 3.8.2 64-bit ('3.8.2': pyenv)"
  }
 },
 "nbformat": 4,
 "nbformat_minor": 2
}